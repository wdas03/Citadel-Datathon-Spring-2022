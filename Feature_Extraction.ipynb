{
  "nbformat": 4,
  "nbformat_minor": 0,
  "metadata": {
    "colab": {
      "name": "Feature_Extraction.ipynb",
      "provenance": [],
      "collapsed_sections": [],
      "toc_visible": true
    },
    "kernelspec": {
      "name": "python3",
      "display_name": "Python 3"
    },
    "language_info": {
      "name": "python"
    }
  },
  "cells": [
    {
      "cell_type": "markdown",
      "source": [
        "# Feature Extraction Notebook\n",
        "\n",
        "Use the given data files, map 311 complaint types, number of crimes, and liquor sale license to geo-parsed cells over NYC. "
      ],
      "metadata": {
        "id": "58Vf-lu4lyvJ"
      }
    },
    {
      "cell_type": "code",
      "source": [
        "# Intall required packages\n",
        "%%capture\n",
        "!pip3 install rtree\n",
        "!pip install pygeos\n",
        "!pip install rtree\n",
        "!pip install geopy\n",
        "!pip install geopandas\n",
        "!pip install geoplot\n",
        "!pip install shapely\n",
        "\n",
        "!pip install --upgrade --no-cache-dir gdown"
      ],
      "metadata": {
        "id": "qzB5KIaml75I"
      },
      "execution_count": 2,
      "outputs": []
    },
    {
      "cell_type": "code",
      "source": [
        "# Import packages\n",
        "import pandas as pd\n",
        "import geopandas as gpd\n",
        "import seaborn as sns\n",
        "import matplotlib.pyplot as plt\n",
        "import numpy as np\n",
        "import pandas as pd\n",
        "import geoplot as gplt\n",
        "import geoplot.crs as gcrs\n",
        "import geopandas as gpd\n",
        "import shapely\n",
        "from shapely.geometry import Point,Polygon\n",
        "import matplotlib.pyplot as plt"
      ],
      "metadata": {
        "id": "HKnB3mx0k3Jg",
        "colab": {
          "base_uri": "https://localhost:8080/"
        },
        "outputId": "66fee5ee-6e61-4668-b24e-eff57d56f0fa"
      },
      "execution_count": 3,
      "outputs": [
        {
          "output_type": "stream",
          "name": "stderr",
          "text": [
            "/usr/local/lib/python3.7/dist-packages/geopandas/_compat.py:115: UserWarning: The Shapely GEOS version (3.10.2-CAPI-1.16.0) is incompatible with the GEOS version PyGEOS was compiled with (3.10.1-CAPI-1.16.0). Conversions between both will be slow.\n",
            "  shapely_geos_version, geos_capi_version_string\n"
          ]
        }
      ]
    },
    {
      "cell_type": "code",
      "source": [
        "# Download csv files \n",
        "!gdown --id 1ONyLIYh_TtLblZ4n4ZlayyCpKU5CaqDh   # Crime\n",
        "!gdown --id 18LHVepkWTGfNQ4oQMllzw9DBtjtxh7z3   # NYC 311\n",
        "!gdown --id 1h2ktaaz_hs5EMh3Z_QMWTUTqBHlNeh0d   #Liquor License"
      ],
      "metadata": {
        "colab": {
          "base_uri": "https://localhost:8080/"
        },
        "id": "8FLjN-Q1i0DN",
        "outputId": "10da67ec-2042-47e6-99cd-80b7859bc32d"
      },
      "execution_count": 4,
      "outputs": [
        {
          "output_type": "stream",
          "name": "stdout",
          "text": [
            "/usr/local/lib/python3.7/dist-packages/gdown/cli.py:131: FutureWarning: Option `--id` was deprecated in version 4.3.1 and will be removed in 5.0. You don't need to pass it anymore to use a file ID.\n",
            "  category=FutureWarning,\n",
            "Downloading...\n",
            "From: https://drive.google.com/uc?id=1ONyLIYh_TtLblZ4n4ZlayyCpKU5CaqDh\n",
            "To: /content/Crime1.csv\n",
            "100% 175M/175M [00:00<00:00, 214MB/s]\n",
            "/usr/local/lib/python3.7/dist-packages/gdown/cli.py:131: FutureWarning: Option `--id` was deprecated in version 4.3.1 and will be removed in 5.0. You don't need to pass it anymore to use a file ID.\n",
            "  category=FutureWarning,\n",
            "Downloading...\n",
            "From: https://drive.google.com/uc?id=18LHVepkWTGfNQ4oQMllzw9DBtjtxh7z3\n",
            "To: /content/Copy of New_York_NY_311.csv\n",
            "100% 3.10G/3.10G [00:13<00:00, 227MB/s]\n",
            "/usr/local/lib/python3.7/dist-packages/gdown/cli.py:131: FutureWarning: Option `--id` was deprecated in version 4.3.1 and will be removed in 5.0. You don't need to pass it anymore to use a file ID.\n",
            "  category=FutureWarning,\n",
            "Downloading...\n",
            "From: https://drive.google.com/uc?id=1h2ktaaz_hs5EMh3Z_QMWTUTqBHlNeh0d\n",
            "To: /content/Updated_Liquor_Licenses.csv\n",
            "100% 768k/768k [00:00<00:00, 125MB/s]\n"
          ]
        }
      ]
    },
    {
      "cell_type": "markdown",
      "source": [
        "### 1. Freature Exploration in NYC 311"
      ],
      "metadata": {
        "id": "waTr11r9pEbg"
      }
    },
    {
      "cell_type": "code",
      "source": [
        "### Load the 3 Relevant CSV\n",
        "crime_df = pd.read_csv('Crime1.csv')\n",
        "ny311_df = pd.read_csv('Copy of New_York_NY_311.csv')\n",
        "liquor_license_df = pd.read_csv('Updated_Liquor_Licenses.csv')"
      ],
      "metadata": {
        "id": "NqeICgLIi837",
        "colab": {
          "base_uri": "https://localhost:8080/"
        },
        "outputId": "f89cdde4-fdab-4ab8-96b6-868bbcb0d495"
      },
      "execution_count": 5,
      "outputs": [
        {
          "output_type": "stream",
          "name": "stderr",
          "text": [
            "/usr/local/lib/python3.7/dist-packages/IPython/core/interactiveshell.py:2882: DtypeWarning: Columns (8,18,29,30) have mixed types.Specify dtype option on import or set low_memory=False.\n",
            "  exec(code_obj, self.user_global_ns, self.user_ns)\n"
          ]
        }
      ]
    },
    {
      "cell_type": "code",
      "source": [
        "#top 10 complaint type in NYC \n",
        "sns.set(rc={'figure.figsize':(11.7,8.27)})\n",
        "sns.countplot(y=\"Complaint Type\", data=ny311_df, palette=\"cubehelix\",\n",
        "              order=ny311_df['Complaint Type'].value_counts().iloc[:10].index).set(title='Top 10 Complaint Type in NYC')"
      ],
      "metadata": {
        "id": "FY2mnIhknaq2",
        "colab": {
          "base_uri": "https://localhost:8080/",
          "height": 488
        },
        "outputId": "40fb263e-2e8f-43cb-f01f-e8442a116734"
      },
      "execution_count": 6,
      "outputs": [
        {
          "output_type": "execute_result",
          "data": {
            "text/plain": [
              "[Text(0.5, 1.0, 'Top 10 Complaint Type in NYC')]"
            ]
          },
          "metadata": {},
          "execution_count": 6
        },
        {
          "output_type": "display_data",
          "data": {
            "text/plain": [
              "<Figure size 842.4x595.44 with 1 Axes>"
            ],
            "image/png": "[encoded data removed]"
          },
          "metadata": {}
        }
      ]
    },
    {
      "cell_type": "code",
      "source": [
        "# Bottom 20 Freqent Complaint types\n",
        "sns.set(rc={'figure.figsize':(11.7,8.27)})\n",
        "sns.countplot(y=\"Complaint Type\", data=ny311_df, palette=\"crest\",\n",
        "              order=ny311_df['Complaint Type'].value_counts().iloc[-20:].index).set(title='Bottom 20 Complaint Type in NYC')"
      ],
      "metadata": {
        "colab": {
          "base_uri": "https://localhost:8080/",
          "height": 477
        },
        "id": "aHbV3eeB1kVF",
        "outputId": "e53ea0e2-8f76-4d61-9319-3a5c302d25d6"
      },
      "execution_count": 7,
      "outputs": [
        {
          "output_type": "execute_result",
          "data": {
            "text/plain": [
              "[Text(0.5, 1.0, 'Bottom 20 Complaint Type in NYC')]"
            ]
          },
          "metadata": {},
          "execution_count": 7
        },
        {
          "output_type": "display_data",
          "data": {
            "text/plain": [
              "<Figure size 842.4x595.44 with 1 Axes>"
            ],
            "image/png": "[encoded data removed]"
          },
          "metadata": {}
        }
      ]
    },
    {
      "cell_type": "code",
      "source": [
        "# Complaint Count distribution\n",
        "sns.histplot(ny311_df['Complaint Type'].value_counts(),\n",
        "             binwidth=10000,\n",
        "             fill=True,\n",
        "             ).set(title='Complaint Distribution by Categorial Counts', xlabel=None, ylabel=None)"
      ],
      "metadata": {
        "colab": {
          "base_uri": "https://localhost:8080/",
          "height": 568
        },
        "id": "L28GLR0K2hX9",
        "outputId": "058b65d7-de3d-42bf-be0b-b535c6b623af"
      },
      "execution_count": 8,
      "outputs": [
        {
          "output_type": "execute_result",
          "data": {
            "text/plain": [
              "[Text(0, 0.5, ''),\n",
              " Text(0.5, 0, ''),\n",
              " Text(0.5, 1.0, 'Complaint Distribution by Categorial Counts')]"
            ]
          },
          "metadata": {},
          "execution_count": 8
        },
        {
          "output_type": "display_data",
          "data": {
            "text/plain": [
              "<Figure size 842.4x595.44 with 1 Axes>"
            ],
            "image/png": "[encoded data removed]"
          },
          "metadata": {}
        }
      ]
    },
    {
      "cell_type": "markdown",
      "source": [
        "### 2. Merge & Prep Data for Geo Referencing"
      ],
      "metadata": {
        "id": "XaCh3aCinlIl"
      }
    },
    {
      "cell_type": "code",
      "source": [
        "# Clear up the kernal outputs\n",
        "import warnings\n",
        "warnings.filterwarnings('ignore')"
      ],
      "metadata": {
        "id": "V7lCSLzVojuk"
      },
      "execution_count": 13,
      "outputs": []
    },
    {
      "cell_type": "code",
      "source": [
        "# Download Relevant .shp files \n",
        "!gdown --id 1VXx_Tl-AZZb1oXpkl7bksXXkYk7nD9sn\n",
        "!gdown --id 1fgCuTDHaE8qLkmEvD7SUMduQwExJM1iw\n",
        "!gdown --id 1oPqS-dWWSXmHEnCUJpcweKBM_dabzNFS\n",
        "!gdown --id 1UjvI6rWKzqS6yQtahP5BPqQ31YIKYTnz"
      ],
      "metadata": {
        "colab": {
          "base_uri": "https://localhost:8080/"
        },
        "id": "VejovBIkt2WQ",
        "outputId": "a70d2dac-75da-4555-8586-f73f16b2045b"
      },
      "execution_count": 14,
      "outputs": [
        {
          "output_type": "stream",
          "name": "stdout",
          "text": [
            "/usr/local/lib/python3.7/dist-packages/gdown/cli.py:131: FutureWarning: Option `--id` was deprecated in version 4.3.1 and will be removed in 5.0. You don't need to pass it anymore to use a file ID.\n",
            "  category=FutureWarning,\n",
            "Downloading...\n",
            "From: https://drive.google.com/uc?id=1VXx_Tl-AZZb1oXpkl7bksXXkYk7nD9sn\n",
            "To: /content/geo_export_aef695bc-13cc-4e8c-b773-e2fc7ebcae80.dbf\n",
            "100% 1.74G/1.74G [00:07<00:00, 226MB/s]\n",
            "/usr/local/lib/python3.7/dist-packages/gdown/cli.py:131: FutureWarning: Option `--id` was deprecated in version 4.3.1 and will be removed in 5.0. You don't need to pass it anymore to use a file ID.\n",
            "  category=FutureWarning,\n",
            "Downloading...\n",
            "From: https://drive.google.com/uc?id=1fgCuTDHaE8qLkmEvD7SUMduQwExJM1iw\n",
            "To: /content/geo_export_aef695bc-13cc-4e8c-b773-e2fc7ebcae80.prj\n",
            "100% 212/212 [00:00<00:00, 316kB/s]\n",
            "/usr/local/lib/python3.7/dist-packages/gdown/cli.py:131: FutureWarning: Option `--id` was deprecated in version 4.3.1 and will be removed in 5.0. You don't need to pass it anymore to use a file ID.\n",
            "  category=FutureWarning,\n",
            "Downloading...\n",
            "From: https://drive.google.com/uc?id=1oPqS-dWWSXmHEnCUJpcweKBM_dabzNFS\n",
            "To: /content/geo_export_aef695bc-13cc-4e8c-b773-e2fc7ebcae80.shp\n",
            "100% 217M/217M [00:00<00:00, 260MB/s]\n",
            "/usr/local/lib/python3.7/dist-packages/gdown/cli.py:131: FutureWarning: Option `--id` was deprecated in version 4.3.1 and will be removed in 5.0. You don't need to pass it anymore to use a file ID.\n",
            "  category=FutureWarning,\n",
            "Downloading...\n",
            "From: https://drive.google.com/uc?id=1UjvI6rWKzqS6yQtahP5BPqQ31YIKYTnz\n",
            "To: /content/geo_export_aef695bc-13cc-4e8c-b773-e2fc7ebcae80.shx\n",
            "100% 8.66M/8.66M [00:00<00:00, 210MB/s]\n"
          ]
        }
      ]
    },
    {
      "cell_type": "code",
      "source": [
        "# Keep relevant columns\n",
        "nyc_311_locs = ny311_df[['Latitude','Longitude', 'Complaint Type']]"
      ],
      "metadata": {
        "id": "MV4JDo3-oGWW"
      },
      "execution_count": 15,
      "outputs": []
    },
    {
      "cell_type": "code",
      "source": [
        "# Liquor data re-factor & labeling\n",
        "license_df = liquor_license_df[['Georeference']]\n",
        "license_df['Latitude'] = license_df['Georeference'].apply(lambda x:float(x.split('(')[1].split(' ')[1].split(')')[0]))\n",
        "license_df['Longitude'] = license_df['Georeference'].apply(lambda x:float(x.split('(')[1].split(' ')[0]))\n",
        "license_df = license_df[['Latitude','Longitude']]\n",
        "license_df['Complaint Type'] = 'Liquor_License'"
      ],
      "metadata": {
        "id": "3u5nrCHZZCbt"
      },
      "execution_count": 23,
      "outputs": []
    },
    {
      "cell_type": "code",
      "source": [
        "# Crime data re-factor & labeling\n",
        "crime_loc = crime_df[['Latitude','Longitude']]\n",
        "crime_loc['Complaint Type'] = 'Crime'"
      ],
      "metadata": {
        "id": "_CvBxaU161on"
      },
      "execution_count": 20,
      "outputs": []
    },
    {
      "cell_type": "code",
      "source": [
        "# Keep track of all the columns\n",
        "complaint_cat = ny311_df['Complaint Type'].unique().tolist()\n",
        "complaint_cat = complaint_cat + ['Crime'] + ['Liquor_License']"
      ],
      "metadata": {
        "id": "okP6uYpg-IjL"
      },
      "execution_count": 21,
      "outputs": []
    },
    {
      "cell_type": "code",
      "source": [
        "# The big data frame we are using to map the points and cells\n",
        "total_loc = pd.concat([nyc_311_locs, crime_loc, license_df])\n",
        "total_loc = total_loc.reset_index()\n",
        "total_loc.shape"
      ],
      "metadata": {
        "id": "yJkIj0qSG0pF",
        "colab": {
          "base_uri": "https://localhost:8080/"
        },
        "outputId": "26383f56-8b9e-4e63-d8bf-c7ded5551b7c"
      },
      "execution_count": 25,
      "outputs": [
        {
          "output_type": "execute_result",
          "data": {
            "text/plain": [
              "(6374805, 4)"
            ]
          },
          "metadata": {},
          "execution_count": 25
        }
      ]
    },
    {
      "cell_type": "code",
      "source": [
        "# Clean - anything out of the geo range of NYC, will not be kept\n",
        "#### RUNTIME WARNING!!! ~5min\n",
        "total_loc['keep'] = total_loc.apply(lambda row: 0 if(row.Longitude < -74.2555913 or row.Longitude > -73.70000906 or row.Latitude < 40.4961154 or row.Latitude > 40.91553278) else 1, axis=1) \n",
        "total_loc = total_loc.query(\"keep == 1\")\n",
        "total_loc.shape"
      ],
      "metadata": {
        "id": "tOyvniuxRLYi",
        "colab": {
          "base_uri": "https://localhost:8080/"
        },
        "outputId": "5d5f5d19-8b6a-4f06-ee43-76e422bdcbbe"
      },
      "execution_count": 26,
      "outputs": [
        {
          "output_type": "execute_result",
          "data": {
            "text/plain": [
              "(6374783, 5)"
            ]
          },
          "metadata": {},
          "execution_count": 26
        }
      ]
    },
    {
      "cell_type": "markdown",
      "source": [
        "### 3. Geo-mapping of all the Features"
      ],
      "metadata": {
        "id": "i_Falkjmpx9K"
      }
    },
    {
      "cell_type": "code",
      "source": [
        "# Create geo-referenced points based on coordinates\n",
        "#### RUNTIME WARNING!!! ~3min\n",
        "geometry = [Point(xy) for xy in zip(total_loc['Longitude'], total_loc['Latitude'])]\n",
        "crs = 'EPSG:4326'\n",
        "geo_df = gpd.GeoDataFrame(total_loc, crs = crs, geometry = geometry)"
      ],
      "metadata": {
        "id": "TJXsFv2p7GS_"
      },
      "execution_count": 27,
      "outputs": []
    },
    {
      "cell_type": "code",
      "source": [
        "# Total area for the grid\n",
        "xmin, ymin, xmax, ymax= geo_df.total_bounds\n",
        "\n",
        "# How many cells across and down\n",
        "n_cells=200\n",
        "cell_size = (xmax-xmin)/n_cells\n",
        "\n",
        "# Projection of the grid\n",
        "crs = \"+proj=sinu +lon_0=0 +x_0=0 +y_0=0 +a=6371007.181 +b=6371007.181 +units=m +no_defs\"\n",
        "\n",
        "# Create the cells in that grid, in a loop\n",
        "grid_cells = []\n",
        "for x0 in np.arange(xmin, xmax+cell_size, cell_size ):\n",
        "    for y0 in np.arange(ymin, ymax+cell_size, cell_size):\n",
        "        # bounds\n",
        "        x1 = x0-cell_size\n",
        "        y1 = y0+cell_size\n",
        "        grid_cells.append( shapely.geometry.box(x0, y0, x1, y1)  )\n",
        "\n",
        "# Create the cell DF that we will be merging our feature columns to \n",
        "cell = gpd.GeoDataFrame(grid_cells, columns=['geometry'], crs=crs)\n",
        "cell.shape"
      ],
      "metadata": {
        "id": "OSStdqvt-ucc",
        "colab": {
          "base_uri": "https://localhost:8080/"
        },
        "outputId": "f6b237e7-c7c8-4f98-e33d-3470352adc0e"
      },
      "execution_count": 28,
      "outputs": [
        {
          "output_type": "execute_result",
          "data": {
            "text/plain": [
              "(30351, 1)"
            ]
          },
          "metadata": {},
          "execution_count": 28
        }
      ]
    },
    {
      "cell_type": "code",
      "source": [
        "# Loop through all the columns of features we are trying to match to cells created above\n",
        "#### RUNTIME WARNING!!! ~8min\n",
        "for i, category in enumerate(complaint_cat):\n",
        "\n",
        "    # Filter to only that Complaint type \n",
        "    mask = geo_df['Complaint Type'] == category\n",
        "    sub_geo_df = geo_df[mask]\n",
        "    \n",
        "    sub_geo_df = sub_geo_df[['geometry']]\n",
        "\n",
        "    # Check all the points, match them to each cell that contains the point\n",
        "    merged = gpd.sjoin(cell, sub_geo_df,  how='right', predicate='contains')\n",
        "    merged[category] = 1\n",
        "    \n",
        "    # Count the occurence in every unique cell\n",
        "    dissolve = merged.dissolve(by=\"index_left\", aggfunc=\"count\")\n",
        "    dissolve.index = dissolve.index.map(int)\n",
        "\n",
        "    # Add the information back to the cell DF\n",
        "    cell.loc[dissolve.index, category] = dissolve[category].values\n",
        "\n",
        "    # Display progress\n",
        "    print(i, category, cell[category].sum())"
      ],
      "metadata": {
        "colab": {
          "base_uri": "https://localhost:8080/"
        },
        "id": "POCuG3lm7UT3",
        "outputId": "2c6cbcf7-dba3-4dda-8165-8862a62a0ab8"
      },
      "execution_count": 29,
      "outputs": [
        {
          "output_type": "stream",
          "name": "stdout",
          "text": [
            "0 Blocked Driveway 298691.0\n",
            "1 Noise - Residential 829912.0\n",
            "2 Noise - Helicopter 40340.0\n",
            "3 Noise - Commercial 106732.0\n",
            "4 HEAT/HOT WATER 461068.0\n",
            "5 Illegal Parking 576393.0\n",
            "6 Street Condition 128322.0\n",
            "7 Rodent 71921.0\n",
            "8 Noise - Street/Sidewalk 398273.0\n",
            "9 Illegal Fireworks 70821.0\n",
            "10 PLUMBING 83034.0\n",
            "11 DOOR/WINDOW 55684.0\n",
            "12 Sidewalk Condition 53647.0\n",
            "13 Taxi Complaint 9338.0\n",
            "14 Traffic Signal Condition 50425.0\n",
            "15 Dirty Conditions 56464.0\n",
            "16 Building/Use 36791.0\n",
            "17 Noise 97838.0\n",
            "18 Sewer 65705.0\n",
            "19 Drinking 6665.0\n",
            "20 Street Light Condition 84453.0\n",
            "21 Noise - Vehicle 173852.0\n",
            "22 Animal-Abuse 14892.0\n",
            "23 Elevator 30877.0\n",
            "24 Derelict Vehicles 74841.0\n",
            "25 Dead/Dying Tree 18717.0\n",
            "26 Non-Emergency Police Matter 106237.0\n",
            "27 Homeless Encampment 172.0\n",
            "28 WATER LEAK 56963.0\n",
            "29 UNSANITARY CONDITION 139886.0\n",
            "30 General Construction/Plumbing 74805.0\n",
            "31 Boilers 6678.0\n",
            "32 Street Sign - Missing 9820.0\n",
            "33 Water System 115547.0\n",
            "34 For Hire Vehicle Complaint 17262.0\n",
            "35 Food Establishment 18185.0\n",
            "36 Special Projects Inspection Team (SPIT) 6262.0\n",
            "37 Lead 15707.0\n",
            "38 Lost Property 9897.0\n",
            "39 Abandoned Vehicle 91625.0\n",
            "40 Hazardous Materials 4349.0\n",
            "41 PAINT/PLASTER 70875.0\n",
            "42 APPLIANCE 29970.0\n",
            "43 FLOORING/STAIRS 31242.0\n",
            "44 Highway Condition 37.0\n",
            "45 Street Sign - Damaged 10499.0\n",
            "46 Consumer Complaint 57828.0\n",
            "47 Sanitation Condition 5161.0\n",
            "48 Air Quality 18093.0\n",
            "49 Taxi Report 1054.0\n",
            "50 Missed Collection (All Materials) 81828.0\n",
            "51 Overgrown Tree/Branches 35335.0\n",
            "52 Homeless Person Assistance 64232.0\n",
            "53 GENERAL 41125.0\n",
            "54 Noise - Park 17031.0\n",
            "55 Damaged Tree 98154.0\n",
            "56 Graffiti 19652.0\n",
            "57 ELECTRIC 38386.0\n",
            "58 Maintenance or Facility 33910.0\n",
            "59 Street Sign - Dangling 7886.0\n",
            "60 Derelict Bicycle 2706.0\n",
            "61 New Tree Request 30774.0\n",
            "62 Panhandling 6528.0\n",
            "63 Electrical 3665.0\n",
            "64 Animal in a Park 7047.0\n",
            "65 SAFETY 13327.0\n",
            "66 Vending 4270.0\n",
            "67 Drug Activity 10264.0\n",
            "68 Unleashed Dog 2028.0\n",
            "69 Water Quality 4540.0\n",
            "70 Root/Sewer/Sidewalk Condition 18739.0\n",
            "71 ELEVATOR 3061.0\n",
            "72 Smoking 7234.0\n",
            "73 Illegal Animal Kept as Pet 1096.0\n",
            "74 Curb Condition 12049.0\n",
            "75 Unsanitary Animal Pvt Property 4023.0\n",
            "76 Mobile Food Vendor 5360.0\n",
            "77 Broken Parking Meter 15290.0\n",
            "78 Public Payphone Complaint 221.0\n",
            "79 Bike/Roller/Skate Chronic 2235.0\n",
            "80 Home Delivered Meal - Missed Delivery 0.0\n",
            "81 Asbestos 2771.0\n",
            "82 Green Taxi Complaint 332.0\n",
            "83 BEST/Site Safety 694.0\n",
            "84 School Maintenance 2337.0\n",
            "85 Illegal Tree Damage 7349.0\n",
            "86 Pet Shop 327.0\n",
            "87 Plumbing 5659.0\n",
            "88 Beach/Pool/Sauna Complaint 315.0\n",
            "89 Indoor Sewage 1868.0\n",
            "90 Vacant Lot 167.0\n",
            "91 Traffic 9847.0\n",
            "92 Food Poisoning 4339.0\n",
            "93 For Hire Vehicle Report 589.0\n",
            "94 Snow 8614.0\n",
            "95 Municipal Parking Facility 9.0\n",
            "96 Water Conservation 7231.0\n",
            "97 Indoor Air Quality 10923.0\n",
            "98 OUTSIDE BUILDING 1364.0\n",
            "99 Scaffold Safety 308.0\n",
            "100 Other Enforcement 1519.0\n",
            "101 Unsanitary Pigeon Condition 1793.0\n",
            "102 Bridge Condition 5.0\n",
            "103 Plant 119.0\n",
            "104 Industrial Waste 1435.0\n",
            "105 Non-Residential Heat 2063.0\n",
            "106 Executive Inspections 5.0\n",
            "107 Construction Lead Dust 1530.0\n",
            "108 Ferry Complaint 2.0\n",
            "109 Unsanitary Animal Facility 169.0\n",
            "110 Mold 520.0\n",
            "111 Noise - House of Worship 3146.0\n",
            "112 Violation of Park Rules 11330.0\n",
            "113 Investigations and Discipline (IAD) 899.0\n",
            "114 Highway Sign - Dangling 2.0\n",
            "115 Bus Stop Shelter Complaint 2069.0\n",
            "116 Ferry Inquiry 2.0\n",
            "117 Day Care 3074.0\n",
            "118 Emergency Response Team (ERT) 6906.0\n",
            "119 Peeling Paint 121.0\n",
            "120 Special Natural Area District (SNAD) 84.0\n",
            "121 Urinating in Public 2388.0\n",
            "122 Recycling Enforcement 434.0\n",
            "123 DEP Street Condition 131.0\n",
            "124 Disorderly Youth 262.0\n",
            "125 Bus Stop Shelter Placement 288.0\n",
            "126 Highway Sign - Damaged 11.0\n",
            "127 Highway Sign - Missing 0.0\n",
            "128 Posting Advertisement 121.0\n",
            "129 Green Taxi Report 28.0\n",
            "130 Borough Office 42.0\n",
            "131 Home Delivered Meal Complaint 0.0\n",
            "132 Drinking Water 502.0\n",
            "133 Cranes and Derricks 192.0\n",
            "134 Building Marshals office 11.0\n",
            "135 Found Property 124.0\n",
            "136 FHV Licensee Complaint 12.0\n",
            "137 Homeless Street Condition 15450.0\n",
            "138 Taxi Compliment 141.0\n",
            "139 Encampment 33626.0\n",
            "140 Ferry Permit 0.0\n",
            "141 Building Condition 14.0\n",
            "142 Tattooing 304.0\n",
            "143 Bike Rack Condition 386.0\n",
            "144 LinkNYC 187.0\n",
            "145 Illegal Animal Sold 128.0\n",
            "146 Cooling Tower 49.0\n",
            "147 Animal Facility - No Permit 140.0\n",
            "148 Dept of Investigations 55.0\n",
            "149 X-Ray Machine/Equipment 101.0\n",
            "150 Snow Removal 2630.0\n",
            "151 Internal Code 10.0\n",
            "152 Window Guard 56.0\n",
            "153 Employee Behavior 4.0\n",
            "154 Facades 2.0\n",
            "155 Public Toilet 61.0\n",
            "156 Overflowing Litter Baskets 20.0\n",
            "157 Poison Ivy 278.0\n",
            "158 Squeegee 157.0\n",
            "159 Calorie Labeling 11.0\n",
            "160 Bottled Water 36.0\n",
            "161 Tunnel Condition 1.0\n",
            "162 Radioactive Material 28.0\n",
            "163 Tanning 5.0\n",
            "164 Lifeguard 40.0\n",
            "165 Miscellaneous Categories 22.0\n",
            "166 Litter Basket / Request 18.0\n",
            "167 COVID-19 Non-essential Construction 7331.0\n",
            "168 Harboring Bees/Wasps 593.0\n",
            "169 DSNY Spillage 5.0\n",
            "170 Mosquitoes 840.0\n",
            "171 NonCompliance with Phased Reopening 66309.0\n",
            "172 Standing Water 2211.0\n",
            "173 Sweeping/Inadequate 9.0\n",
            "174 Missed Collection 41815.0\n",
            "175 Outdoor Dining 9045.0\n",
            "176 Sweeping/Missed 2.0\n",
            "177 Collection Truck Noise 3.0\n",
            "178 Dispatched Taxi Complaint 8.0\n",
            "179 Real Time Enforcement 4807.0\n",
            "180 Private or Charter School Reopening 2104.0\n",
            "181 AHV Inspection Unit 246.0\n",
            "182 Mass Gathering Complaint 3652.0\n",
            "183 DEP Sidewalk Condition 3.0\n",
            "184 Trans Fat 1.0\n",
            "185 Wood Pile Remaining 728.0\n",
            "186 Uprooted Stump 755.0\n",
            "187 Dirty Condition 19478.0\n",
            "188 Abandoned Bike 751.0\n",
            "189 SNW 0.0\n",
            "190 Seasonal Collection 330.0\n",
            "191 Taxi Licensee Complaint 5.0\n",
            "192 SRDE 3.0\n",
            "193 Unlicensed Dog 1.0\n",
            "194 DEP Highway Condition 2.0\n",
            "195 Adopt-A-Basket 1.0\n",
            "196 E-Scooter 187.0\n",
            "197 Vaccine Mandate Non-Compliance 7391.0\n",
            "198 SRGOVG 1.0\n",
            "199 Storm 3003.0\n",
            "200 Change Collection Schedule 1.0\n",
            "201 Commercial Disposal Complaint 279.0\n",
            "202 Snow or Ice 5251.0\n",
            "203 Lot Condition 668.0\n",
            "204 Sanitation Worker or Vehicle Complaint 1102.0\n",
            "205 Illegal Dumping 9901.0\n",
            "206 Litter Basket Request 1394.0\n",
            "207 Residential Disposal Complaint 3481.0\n",
            "208 Obstruction 3084.0\n",
            "209 Litter Basket Complaint 796.0\n",
            "210 Illegal Posting 1015.0\n",
            "211 Dead Animal 3910.0\n",
            "212 Dumpster Complaint 708.0\n",
            "213 Street Sweeping Complaint 1924.0\n",
            "214 DSNY Internal 3.0\n",
            "215 Institution Disposal Complaint 44.0\n",
            "216 Transfer Station Complaint 11.0\n",
            "217 DEP Bridge Condition 0.0\n",
            "218 Retailer Complaint 11.0\n",
            "219 Recycling Basket Complaint 8.0\n",
            "220 Incorrect Data 103.0\n",
            "221 Special Operations 1.0\n",
            "222 Forensic Engineering 1.0\n",
            "223 Private School Vaccine Mandate Non-Compliance 36.0\n",
            "224 Face Covering Violation 1801.0\n",
            "225 Oil or Gas Spill 1.0\n",
            "226 Facade Insp Safety Pgm 1.0\n",
            "227 Dispatched Taxi Compliment 2.0\n",
            "228 Crime 449506.0\n",
            "229 Liquor_License 18277.0\n"
          ]
        }
      ]
    },
    {
      "cell_type": "code",
      "source": [
        "# Now 229 columns for each cell are created, those doesn't have any occurance within the cell (was 'NaN') are filled with 0\n",
        "cell = cell.fillna(0)"
      ],
      "metadata": {
        "id": "jQV6pEhjDKfQ"
      },
      "execution_count": 30,
      "outputs": []
    },
    {
      "cell_type": "code",
      "source": [
        "# Save the file\n",
        "#### RUNTIME WARNING!!! ~8min\n",
        "\n",
        "cell.to_file(\"cell_agg_all_NYC.geojson\", driver='GeoJSON') \n",
        "\n",
        "# To read, do <gpd.read_file(\"cell_agg_Complaints_Crimes.geojson\")>"
      ],
      "metadata": {
        "id": "IL9IJ7s_OwAJ"
      },
      "execution_count": 31,
      "outputs": []
    }
  ]
}